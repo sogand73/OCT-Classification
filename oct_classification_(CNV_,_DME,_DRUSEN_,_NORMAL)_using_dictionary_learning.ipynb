{
  "nbformat": 4,
  "nbformat_minor": 0,
  "metadata": {
    "colab": {
      "provenance": [],
      "authorship_tag": "ABX9TyNyWH+Le2D1rnL6fjGfcGJK",
      "include_colab_link": true
    },
    "kernelspec": {
      "name": "python3",
      "display_name": "Python 3"
    },
    "language_info": {
      "name": "python"
    }
  },
  "cells": [
    {
      "cell_type": "markdown",
      "metadata": {
        "id": "view-in-github",
        "colab_type": "text"
      },
      "source": [
        "<a href=\"https://colab.research.google.com/github/sogand73/OCT-Classification/blob/main/oct_classification_(CNV_%2C_DME%2C_DRUSEN_%2C_NORMAL)_using_dictionary_learning.ipynb\" target=\"_parent\"><img src=\"https://colab.research.google.com/assets/colab-badge.svg\" alt=\"Open In Colab\"/></a>"
      ]
    },
    {
      "cell_type": "code",
      "source": [
        "#The last edit and results (01.09.2024):\n",
        "#The models were applied to the Retinal OCT with 4 categories of diseases (CNV, DME, DRUSEN, NORMAL) :\n",
        "#Dataset is used in the paper \"Classification of optical coherence tomography images using a capsule network\" (Authors: Takumasa Tsuji, Yuta Hirose, Kohei Fujimori, 2020)\n",
        "#The paper link: https://bmcophthalmol.biomedcentral.com/articles/10.1186/s12886-020-01382-4\n",
        "#Dataset Link: https://www.kaggle.com/datasets/paultimothymooney/kermany2018/\n",
        "#Dataset has about 84000 training images, so we have a RAM problem during dataset loading and training.\n",
        "#With a few numbers of data, all models had bad results (accuracy of about 0.27) on training and test data.\n",
        "\n",
        "#Next work:\n",
        "#Using more data\n",
        "#work on size reduction part during data loading, which makes some information be missed\n",
        "#Using more dictionary atoms\n",
        "#Using more complex methods for atom selection and feature extraction\n",
        "#Improving DNN model architectures\n",
        "#Check and select the best parameters of Dictionary learning and DNN models training processes"
      ],
      "metadata": {
        "id": "oGNKPCx-__29"
      },
      "execution_count": null,
      "outputs": []
    },
    {
      "cell_type": "code",
      "execution_count": null,
      "metadata": {
        "id": "hHhu5t94qlFW"
      },
      "outputs": [],
      "source": [
        "import numpy as np\n",
        "from sklearn.datasets import make_classification\n",
        "from sklearn.model_selection import train_test_split\n",
        "from sklearn.linear_model import LogisticRegression\n",
        "from sklearn.feature_extraction import DictVectorizer\n",
        "from sklearn.decomposition import MiniBatchDictionaryLearning"
      ]
    },
    {
      "cell_type": "code",
      "source": [
        "! pip install kaggle\n",
        "! mkdir ~/.kaggle\n",
        "! cp /kaggle.json ~/.kaggle/\n",
        "! chmod 600 ~/.kaggle/kaggle.json"
      ],
      "metadata": {
        "colab": {
          "base_uri": "https://localhost:8080/"
        },
        "id": "JI-p8VjhDque",
        "outputId": "72eb8790-0f80-46dc-8554-9a40fb208e5f"
      },
      "execution_count": null,
      "outputs": [
        {
          "output_type": "stream",
          "name": "stdout",
          "text": [
            "Requirement already satisfied: kaggle in /usr/local/lib/python3.10/dist-packages (1.5.16)\n",
            "Requirement already satisfied: six>=1.10 in /usr/local/lib/python3.10/dist-packages (from kaggle) (1.16.0)\n",
            "Requirement already satisfied: certifi in /usr/local/lib/python3.10/dist-packages (from kaggle) (2023.11.17)\n",
            "Requirement already satisfied: python-dateutil in /usr/local/lib/python3.10/dist-packages (from kaggle) (2.8.2)\n",
            "Requirement already satisfied: requests in /usr/local/lib/python3.10/dist-packages (from kaggle) (2.31.0)\n",
            "Requirement already satisfied: tqdm in /usr/local/lib/python3.10/dist-packages (from kaggle) (4.66.1)\n",
            "Requirement already satisfied: python-slugify in /usr/local/lib/python3.10/dist-packages (from kaggle) (8.0.1)\n",
            "Requirement already satisfied: urllib3 in /usr/local/lib/python3.10/dist-packages (from kaggle) (2.0.7)\n",
            "Requirement already satisfied: bleach in /usr/local/lib/python3.10/dist-packages (from kaggle) (6.1.0)\n",
            "Requirement already satisfied: webencodings in /usr/local/lib/python3.10/dist-packages (from bleach->kaggle) (0.5.1)\n",
            "Requirement already satisfied: text-unidecode>=1.3 in /usr/local/lib/python3.10/dist-packages (from python-slugify->kaggle) (1.3)\n",
            "Requirement already satisfied: charset-normalizer<4,>=2 in /usr/local/lib/python3.10/dist-packages (from requests->kaggle) (3.3.2)\n",
            "Requirement already satisfied: idna<4,>=2.5 in /usr/local/lib/python3.10/dist-packages (from requests->kaggle) (3.6)\n"
          ]
        }
      ]
    },
    {
      "cell_type": "code",
      "source": [
        "! kaggle datasets download paultimothymooney/kermany2018/"
      ],
      "metadata": {
        "colab": {
          "base_uri": "https://localhost:8080/"
        },
        "id": "oMtm19PND0MJ",
        "outputId": "b54a7250-2704-41e6-f83d-2a5f8a8143be"
      },
      "execution_count": null,
      "outputs": [
        {
          "output_type": "stream",
          "name": "stdout",
          "text": [
            "Downloading kermany2018.zip to /content\n",
            "100% 10.8G/10.8G [08:03<00:00, 27.4MB/s]\n",
            "100% 10.8G/10.8G [08:03<00:00, 24.1MB/s]\n"
          ]
        }
      ]
    },
    {
      "cell_type": "code",
      "source": [
        "!unzip kermany2018.zip"
      ],
      "metadata": {
        "id": "13pZMKqlEbVA"
      },
      "execution_count": null,
      "outputs": []
    },
    {
      "cell_type": "code",
      "source": [
        "import os\n",
        "import cv2\n",
        "\n",
        "%cd /content/OCT2017 /\n",
        "\n",
        "train_path = \"/content/OCT2017 /train/\"\n",
        "#val_path = \"/content/OCT2017 /val/\"\n",
        "test_path = \"/content/OCT2017 /test/\"\n",
        "\n",
        "classes = ['CNV', 'DME', 'DRUSEN', 'NORMAL']\n",
        "\n",
        "\n",
        "def load(path,num):\n",
        "    # List to store images and labels\n",
        "    listed_paths = []\n",
        "    images = []\n",
        "    labels = []\n",
        "\n",
        "    for i in classes:\n",
        "        base_path = os.path.join(path, i)\n",
        "        imgs = os.listdir(base_path)\n",
        "        for img in imgs[:num]:\n",
        "            img_path = base_path + '/' + img\n",
        "            listed_paths.append(img_path)\n",
        "            image = cv2.imread(img_path)\n",
        "            image = image[:,:,0]\n",
        "            image = cv2.resize(image, (256, 256)) #256*256*1 pixels\n",
        "            images.append(image.flatten())\n",
        "            labels.append(i)\n",
        "    return np.array(listed_paths), np.array(images), np.array(labels)\n",
        "\n",
        "train_paths, train_images, train_labels = load(train_path,1000)\n",
        "#val_paths, val_images, val_labels = load(val_path,100)\n",
        "test_paths, test_images, test_labels = load(test_path,200)\n",
        "\n",
        "# Splitting the data into training and validating sets\n",
        "train_images, val_images, train_labels, val_labels = train_test_split(train_images, train_labels, test_size=0.2, random_state=42)\n",
        "\n"
      ],
      "metadata": {
        "colab": {
          "base_uri": "https://localhost:8080/"
        },
        "id": "Vij30TaU19P4",
        "outputId": "93863a4d-e215-4da2-d87b-a2b090fd5a26"
      },
      "execution_count": 34,
      "outputs": [
        {
          "output_type": "stream",
          "name": "stdout",
          "text": [
            "/content/OCT2017 \n"
          ]
        }
      ]
    },
    {
      "cell_type": "code",
      "source": [
        "from google.colab import drive\n",
        "drive.mount('/content/drive')"
      ],
      "metadata": {
        "colab": {
          "base_uri": "https://localhost:8080/"
        },
        "id": "LEHkN6LsXA2H",
        "outputId": "43213aa2-d79c-4fc5-d95b-c56541085e51"
      },
      "execution_count": 21,
      "outputs": [
        {
          "output_type": "stream",
          "name": "stdout",
          "text": [
            "Mounted at /content/drive\n"
          ]
        }
      ]
    },
    {
      "cell_type": "code",
      "source": [
        "X_train, X_test, X_val, y_train, y_test, y_val = train_images, test_images, val_images, train_labels, test_labels, val_labels"
      ],
      "metadata": {
        "id": "SxIa5pZjPU0c"
      },
      "execution_count": 35,
      "outputs": []
    },
    {
      "cell_type": "code",
      "source": [
        "# Perform dictionary learning on training data\n",
        "dl = MiniBatchDictionaryLearning(n_components=30, alpha=1, n_iter=20, batch_size=30)\n",
        "X_train_transformed = dl.fit_transform(X_train)"
      ],
      "metadata": {
        "colab": {
          "base_uri": "https://localhost:8080/"
        },
        "outputId": "bbe4bec7-9260-4230-88d8-f49c776f5241",
        "id": "59Sb1GlPRkVM"
      },
      "execution_count": 39,
      "outputs": [
        {
          "output_type": "stream",
          "name": "stderr",
          "text": [
            "/usr/local/lib/python3.10/dist-packages/sklearn/decomposition/_dict_learning.py:2303: FutureWarning: 'n_iter' is deprecated in version 1.1 and will be removed in version 1.4. Use 'max_iter' and let 'n_iter' to its default value instead. 'n_iter' is also ignored if 'max_iter' is specified.\n",
            "  warnings.warn(\n"
          ]
        }
      ]
    },
    {
      "cell_type": "code",
      "source": [
        "# Transform validation and test data using the learned dictionary\n",
        "X_val_transformed = dl.transform(X_val)\n",
        "X_test_transformed = dl.transform(X_test)\n"
      ],
      "metadata": {
        "id": "u8_xldZOTjtM"
      },
      "execution_count": 40,
      "outputs": []
    },
    {
      "cell_type": "code",
      "source": [
        "# Identifying Discriminative Atoms: When we want to select discriminative atoms as features for data dimension reduction\n",
        "\n",
        "coefficients = dl.transform(X_train) #The result is equal to: X_train_transformed = dl.fit_transform(X_train)\n",
        "\n",
        "# Assuming dl.components_ contains the learned dictionary components (atoms)\n",
        "learned_dictionary = dl.components_\n",
        "learned_dictionary.shape\n",
        "\n",
        "# Assuming 'y_train' contains the corresponding labels for the train data\n",
        "# Let's say class 0 and class 1 are represented by labels 0 and 1, respectively\n",
        "\n",
        "# Separate coefficients for each class\n",
        "# 1 : CNV, 2 : DME, 3 : DRUSEN, 4 : NORMAL\n",
        "class_1_coeffs = coefficients[y_train == \"CNV\"]  # Coefficients for class CNV\n",
        "class_2_coeffs = coefficients[y_train == \"DME\"]  # Coefficients for class DME\n",
        "class_3_coeffs = coefficients[y_train == \"DRUSEN\"]  # Coefficients for class DRUSEN\n",
        "class_4_coeffs = coefficients[y_train == \"NORMAL\"]  # Coefficients for class NORMAL\n",
        "\n",
        "#print(f\"size of class 1 coeff.:{class_1_coeffs.shape}, \\nsize of class 2 coeff.:{class_2_coeffs.shape}\")\n",
        "\n",
        "# Calculate average coefficients for each class\n",
        "avg_coeffs_class_1 = np.mean(class_1_coeffs, axis=0)\n",
        "avg_coeffs_class_2 = np.mean(class_2_coeffs, axis=0)\n",
        "avg_coeffs_class_3 = np.mean(class_3_coeffs, axis=0)\n",
        "avg_coeffs_class_4 = np.mean(class_4_coeffs, axis=0)\n",
        "\n",
        "#print(f\"size of average class 1 coeff.:{avg_coeffs_class_1.shape}, {avg_coeffs_class_1} \\nsize of average class 2 coeff.:{avg_coeffs_class_2.shape}, {avg_coeffs_class_2}\")\n",
        "\n",
        "# Find discriminative atoms by comparing average coefficients\n",
        "threshold = 0.5  # You can adjust this threshold as needed\n",
        "\n",
        "# Identifying discriminative atoms for class 1\n",
        "discriminative_atoms_class_1 = np.where(avg_coeffs_class_1 > threshold)[0]\n",
        "\n",
        "# Identifying discriminative atoms for class 2\n",
        "discriminative_atoms_class_2 = np.where(avg_coeffs_class_2 > threshold)[0]\n",
        "\n",
        "# Identifying discriminative atoms for class 3\n",
        "discriminative_atoms_class_3 = np.where(avg_coeffs_class_3 > threshold)[0]\n",
        "\n",
        "# Identifying discriminative atoms for class 4\n",
        "discriminative_atoms_class_4 = np.where(avg_coeffs_class_4 > threshold)[0]\n",
        "\n",
        "# Display or further analyze the discriminative atoms\n",
        "print(\"Discriminative Atoms for Class 1:\", discriminative_atoms_class_1)\n",
        "print(\"Discriminative Atoms for Class 2:\", discriminative_atoms_class_2)\n",
        "print(\"Discriminative Atoms for Class 3:\", discriminative_atoms_class_3)\n",
        "print(\"Discriminative Atoms for Class 4:\", discriminative_atoms_class_4)\n",
        "\n",
        "# Extract discriminative atoms from the learned dictionary\n",
        "#extracted_atoms = learned_dictionary[np.union1d(discriminative_atoms_class_1, discriminative_atoms_class_2, discriminative_atoms_class_3, discriminative_atoms_class_4)]\n",
        "\n",
        "combined_atoms = np.concatenate((discriminative_atoms_class_1, discriminative_atoms_class_2, discriminative_atoms_class_3, discriminative_atoms_class_4))\n",
        "\n",
        "# Compute union of unique elements\n",
        "extracted_atoms = learned_dictionary[np.unique(combined_atoms)]\n",
        "\n",
        "# Transform the original data using the extracted discriminative atoms\n",
        "X_train_transformed_discriminative = np.dot(X_train, extracted_atoms.T)  # Transforming data by dot product with extracted atoms\n",
        "X_test_transformed_discriminative = np.dot(X_test, extracted_atoms.T)\n",
        "X_val_transformed_discriminative = np.dot(X_val, extracted_atoms.T)\n",
        "\n",
        "#Replece train and test and validation data with data transformed using discriminative atoms\n",
        "X_train_transformed = X_train_transformed_discriminative\n",
        "X_test_transformed = X_test_transformed_discriminative\n",
        "X_val_transformed = X_val_transformed_discriminative"
      ],
      "metadata": {
        "colab": {
          "base_uri": "https://localhost:8080/"
        },
        "outputId": "3bdd2818-5fce-44e7-edf0-16589a16e0e0",
        "id": "iZvq_PWIT3rn"
      },
      "execution_count": 38,
      "outputs": [
        {
          "output_type": "stream",
          "name": "stdout",
          "text": [
            "Discriminative Atoms for Class 1: [ 0  1  4  5  6  7  9 10 12 14 17 26 27 29]\n",
            "Discriminative Atoms for Class 2: [ 0  4  5  6  7  8  9 12 13 14 17 20 24 25 26 27 29]\n",
            "Discriminative Atoms for Class 3: [ 0  1  6  7  9 12 13 14 17 20 26 27 29]\n",
            "Discriminative Atoms for Class 4: [ 0  6  7  9 10 12 14 17 26 27]\n"
          ]
        }
      ]
    },
    {
      "cell_type": "code",
      "source": [
        "# Using logistic regression for classification\n",
        "classifier = LogisticRegression()\n",
        "classifier.fit(X_train_transformed, y_train)\n",
        "\n",
        "# Predicting on test data\n",
        "predictions = classifier.predict(X_test_transformed)\n",
        "\n",
        "# Evaluating the classifier\n",
        "accuracy = classifier.score(X_test_transformed, y_test)\n",
        "print(f\"Accuracy: {accuracy}\")"
      ],
      "metadata": {
        "colab": {
          "base_uri": "https://localhost:8080/"
        },
        "outputId": "0be62f16-81f2-4ef2-8512-c85c8a6fd559",
        "id": "0ipOQn0N6Llu"
      },
      "execution_count": 26,
      "outputs": [
        {
          "output_type": "stream",
          "name": "stdout",
          "text": [
            "Accuracy: 0.2725\n"
          ]
        },
        {
          "output_type": "stream",
          "name": "stderr",
          "text": [
            "/usr/local/lib/python3.10/dist-packages/sklearn/linear_model/_logistic.py:458: ConvergenceWarning: lbfgs failed to converge (status=1):\n",
            "STOP: TOTAL NO. of ITERATIONS REACHED LIMIT.\n",
            "\n",
            "Increase the number of iterations (max_iter) or scale the data as shown in:\n",
            "    https://scikit-learn.org/stable/modules/preprocessing.html\n",
            "Please also refer to the documentation for alternative solver options:\n",
            "    https://scikit-learn.org/stable/modules/linear_model.html#logistic-regression\n",
            "  n_iter_i = _check_optimize_result(\n"
          ]
        }
      ]
    },
    {
      "cell_type": "code",
      "source": [
        "# Step 3: Build Deep Neural Network\n",
        "import tensorflow as tf\n",
        "from tensorflow.keras.models import Sequential\n",
        "from tensorflow.keras.layers import Dense\n",
        "from sklearn.preprocessing import LabelBinarizer\n",
        "\n",
        "# Define the DNN architecture\n",
        "model_FC = Sequential([\n",
        "    Dense(128, activation='relu', input_shape=(X_train_transformed.shape[1],)),\n",
        "    Dense(64, activation='relu'),\n",
        "    Dense(4, activation='softmax')  # 4 output classes\n",
        "])\n",
        "\n",
        "# Compile the model\n",
        "model_FC.compile(optimizer='adam', loss='categorical_crossentropy', metrics=['accuracy'])\n",
        "\n",
        "\n",
        "#Apply one-hot encoding for labels of the multi-class classification problem\n",
        "# Initialize LabelBinarizer\n",
        "label_binarizer = LabelBinarizer()\n",
        "\n",
        "# Fit and transform the string-format labels to one-hot encoded format\n",
        "y_train_FC = label_binarizer.fit_transform(train_labels)\n",
        "y_test_FC = label_binarizer.fit_transform(test_labels)\n",
        "y_val_FC = label_binarizer.fit_transform(val_labels)\n"
      ],
      "metadata": {
        "id": "vsOkEqDY7fXB"
      },
      "execution_count": 27,
      "outputs": []
    },
    {
      "cell_type": "code",
      "source": [
        "# Step 4: Training and Evaluation\n",
        "from keras.callbacks import History\n",
        "history = History()\n",
        "\n",
        "model_FC.fit(X_train_transformed, y_train_FC, epochs=20, batch_size=32, validation_data=(X_val_transformed, y_val_FC), callbacks=[history])\n",
        "\n",
        "# Evaluate the model\n",
        "test_loss, test_accuracy = model_FC.evaluate(X_test_transformed, y_test_FC)\n",
        "print(f'Test accuracy: {test_accuracy}')\n"
      ],
      "metadata": {
        "colab": {
          "base_uri": "https://localhost:8080/"
        },
        "outputId": "f203fbad-dd73-4a70-9cc7-580ea30e7f1e",
        "id": "waaP9-RN7fXE"
      },
      "execution_count": 28,
      "outputs": [
        {
          "output_type": "stream",
          "name": "stdout",
          "text": [
            "Epoch 1/20\n",
            "50/50 [==============================] - 1s 8ms/step - loss: 552.6462 - accuracy: 0.2456 - val_loss: 289.5491 - val_accuracy: 0.2150\n",
            "Epoch 2/20\n",
            "50/50 [==============================] - 0s 3ms/step - loss: 211.8653 - accuracy: 0.2544 - val_loss: 208.6814 - val_accuracy: 0.2725\n",
            "Epoch 3/20\n",
            "50/50 [==============================] - 0s 4ms/step - loss: 188.9038 - accuracy: 0.2663 - val_loss: 129.8708 - val_accuracy: 0.2775\n",
            "Epoch 4/20\n",
            "50/50 [==============================] - 0s 4ms/step - loss: 178.4353 - accuracy: 0.2694 - val_loss: 138.5881 - val_accuracy: 0.2625\n",
            "Epoch 5/20\n",
            "50/50 [==============================] - 0s 4ms/step - loss: 200.7488 - accuracy: 0.2669 - val_loss: 177.4524 - val_accuracy: 0.2575\n",
            "Epoch 6/20\n",
            "50/50 [==============================] - 0s 3ms/step - loss: 151.8439 - accuracy: 0.2625 - val_loss: 150.7449 - val_accuracy: 0.2725\n",
            "Epoch 7/20\n",
            "50/50 [==============================] - 0s 3ms/step - loss: 135.9048 - accuracy: 0.2681 - val_loss: 185.6600 - val_accuracy: 0.2950\n",
            "Epoch 8/20\n",
            "50/50 [==============================] - 0s 4ms/step - loss: 171.7773 - accuracy: 0.2763 - val_loss: 223.6392 - val_accuracy: 0.2675\n",
            "Epoch 9/20\n",
            "50/50 [==============================] - 0s 4ms/step - loss: 150.3075 - accuracy: 0.2669 - val_loss: 101.1993 - val_accuracy: 0.2850\n",
            "Epoch 10/20\n",
            "50/50 [==============================] - 0s 4ms/step - loss: 166.4408 - accuracy: 0.2663 - val_loss: 161.0553 - val_accuracy: 0.2625\n",
            "Epoch 11/20\n",
            "50/50 [==============================] - 0s 3ms/step - loss: 166.4915 - accuracy: 0.2663 - val_loss: 134.4518 - val_accuracy: 0.2750\n",
            "Epoch 12/20\n",
            "50/50 [==============================] - 0s 5ms/step - loss: 198.1699 - accuracy: 0.2594 - val_loss: 104.2923 - val_accuracy: 0.2600\n",
            "Epoch 13/20\n",
            "50/50 [==============================] - 0s 6ms/step - loss: 147.1289 - accuracy: 0.2869 - val_loss: 183.2474 - val_accuracy: 0.2500\n",
            "Epoch 14/20\n",
            "50/50 [==============================] - 0s 5ms/step - loss: 137.9025 - accuracy: 0.2781 - val_loss: 83.3550 - val_accuracy: 0.2925\n",
            "Epoch 15/20\n",
            "50/50 [==============================] - 0s 5ms/step - loss: 113.0045 - accuracy: 0.2869 - val_loss: 142.5616 - val_accuracy: 0.2500\n",
            "Epoch 16/20\n",
            "50/50 [==============================] - 0s 5ms/step - loss: 101.5198 - accuracy: 0.3000 - val_loss: 131.9668 - val_accuracy: 0.2750\n",
            "Epoch 17/20\n",
            "50/50 [==============================] - 0s 4ms/step - loss: 108.6956 - accuracy: 0.2694 - val_loss: 201.4493 - val_accuracy: 0.2350\n",
            "Epoch 18/20\n",
            "50/50 [==============================] - 0s 4ms/step - loss: 112.6211 - accuracy: 0.2869 - val_loss: 82.6709 - val_accuracy: 0.2975\n",
            "Epoch 19/20\n",
            "50/50 [==============================] - 0s 5ms/step - loss: 111.6559 - accuracy: 0.2856 - val_loss: 100.9299 - val_accuracy: 0.2650\n",
            "Epoch 20/20\n",
            "50/50 [==============================] - 0s 5ms/step - loss: 107.1444 - accuracy: 0.2931 - val_loss: 99.6598 - val_accuracy: 0.2825\n",
            "13/13 [==============================] - 0s 3ms/step - loss: 85.8114 - accuracy: 0.3125\n",
            "Test accuracy: 0.3125\n"
          ]
        }
      ]
    },
    {
      "cell_type": "code",
      "source": [
        "import matplotlib.pyplot as plt\n",
        "\n",
        "# Access loss values from training history\n",
        "training_loss = history.history['loss']\n",
        "validation_loss = history.history['val_loss']\n",
        "\n",
        "# Get the number of epochs\n",
        "epochs = range(1, len(training_loss) + 1)\n",
        "\n",
        "# Plotting the loss per epoch for training and validation data\n",
        "plt.figure(figsize=(8, 6))\n",
        "plt.plot(epochs, training_loss, 'b', label='Training Loss')\n",
        "plt.plot(epochs, validation_loss, 'r', label='Validation Loss')\n",
        "plt.title('Training and Validation Loss per Epoch')\n",
        "plt.xlabel('Epochs')\n",
        "plt.ylabel('Loss')\n",
        "plt.legend()\n",
        "plt.grid()\n",
        "plt.show()\n",
        "model_FC.history\n"
      ],
      "metadata": {
        "id": "5RFCkmut7fXF",
        "colab": {
          "base_uri": "https://localhost:8080/",
          "height": 582
        },
        "outputId": "5917fbc7-1f1d-441e-f5e4-08c651f96109"
      },
      "execution_count": 30,
      "outputs": [
        {
          "output_type": "display_data",
          "data": {
            "text/plain": [
              "<Figure size 800x600 with 1 Axes>"
            ],
            "image/png": "[encoded data removed]"
          },
          "metadata": {}
        },
        {
          "output_type": "execute_result",
          "data": {
            "text/plain": [
              "<keras.src.callbacks.History at 0x7a7244467dc0>"
            ]
          },
          "metadata": {},
          "execution_count": 30
        }
      ]
    },
    {
      "cell_type": "code",
      "source": [
        "# Reshape the transformed data from vector to image format\n",
        "\n",
        "def vector_to_image(data_vector):\n",
        "  image_height = data_vector.shape[1]\n",
        "  image_width = 1\n",
        "  num_channels = 1\n",
        "\n",
        "  data_image = []\n",
        "  for i in range(data_vector.shape[0]):\n",
        "    single_img_reshaped = data_vector[i].reshape(-1, image_height, image_width)\n",
        "    data_image.append(single_img_reshaped)\n",
        "\n",
        "  data_image = np.array(data_image)\n",
        "  data_image.resize(data_vector.shape[0],32,32,num_channels)\n",
        "  return data_image\n",
        "\n",
        "X_train_transformed_reshaped = vector_to_image(X_train_transformed)\n",
        "X_test_transformed_reshaped = vector_to_image(X_test_transformed)\n",
        "X_val_transformed_reshaped = vector_to_image(X_val_transformed)"
      ],
      "metadata": {
        "id": "5u4g3Gx2Qg2A"
      },
      "execution_count": 31,
      "outputs": []
    },
    {
      "cell_type": "code",
      "source": [
        "#CNN model for classification\n",
        "import tensorflow as tf\n",
        "from tensorflow.keras.models import Sequential\n",
        "from tensorflow.keras.layers import Conv2D, MaxPooling2D, Flatten, Dense\n",
        "from sklearn.preprocessing import LabelBinarizer\n",
        "\n",
        "#Define train and test and validation data\n",
        "X_train_CNN = X_train_transformed_reshaped\n",
        "X_test_CNN = X_test_transformed_reshaped\n",
        "X_val_CNN = X_val_transformed_reshaped\n",
        "\n",
        "#Apply one-hot encoding for labels of the multi-class classification problem\n",
        "# Initialize LabelBinarizer\n",
        "label_binarizer = LabelBinarizer()\n",
        "\n",
        "# Fit and transform the string-format labels to one-hot encoded format\n",
        "y_train_CNN = label_binarizer.fit_transform(train_labels)\n",
        "y_test_CNN = label_binarizer.fit_transform(test_labels)\n",
        "y_val_CNN = label_binarizer.fit_transform(val_labels)\n",
        "\n",
        "\n",
        "#Define dimensions\n",
        "image_height = X_train_CNN.shape[1]\n",
        "image_width = X_train_CNN.shape[2]\n",
        "num_channels = X_train_CNN.shape[3]\n",
        "\n",
        "# Define the CNN architecture\n",
        "model = Sequential([\n",
        "    Conv2D(128, (3, 3), activation='relu', input_shape=(image_height, image_width, num_channels)),\n",
        "    MaxPooling2D((2, 2)),\n",
        "    Conv2D(64, (3, 3), activation='relu'),\n",
        "    MaxPooling2D((2, 2)),\n",
        "    Dense(32, activation='relu'),\n",
        "    Flatten(),\n",
        "    Dense(4, activation='softmax')  # 4 output classes\n",
        "])\n",
        "\n",
        "# Compile the model\n",
        "model.compile(optimizer='adam', loss='categorical_crossentropy', metrics=['accuracy'])\n",
        "\n",
        "\n",
        "# Train the CNN using transformed data\n",
        "model.fit(X_train_CNN, y_train_CNN, epochs=10, batch_size=16, validation_data=(X_val_CNN, y_val_CNN))\n",
        "\n",
        "# Evaluate the model\n",
        "test_loss, test_accuracy = model.evaluate(X_test_CNN, y_test_CNN)\n",
        "print(f'Test accuracy: {test_accuracy}')\n"
      ],
      "metadata": {
        "id": "hLAJqmYMQKBz",
        "colab": {
          "base_uri": "https://localhost:8080/"
        },
        "outputId": "702faf39-c5a8-4e70-b850-f57ddfd120bf"
      },
      "execution_count": 32,
      "outputs": [
        {
          "output_type": "stream",
          "name": "stdout",
          "text": [
            "Epoch 1/10\n",
            "100/100 [==============================] - 11s 96ms/step - loss: 66.8930 - accuracy: 0.2356 - val_loss: 23.1808 - val_accuracy: 0.2150\n",
            "Epoch 2/10\n",
            "100/100 [==============================] - 6s 56ms/step - loss: 8.5343 - accuracy: 0.2600 - val_loss: 6.9700 - val_accuracy: 0.2175\n",
            "Epoch 3/10\n",
            "100/100 [==============================] - 6s 62ms/step - loss: 4.5639 - accuracy: 0.2587 - val_loss: 4.1299 - val_accuracy: 0.2175\n",
            "Epoch 4/10\n",
            "100/100 [==============================] - 8s 75ms/step - loss: 2.4822 - accuracy: 0.2500 - val_loss: 2.0877 - val_accuracy: 0.2150\n",
            "Epoch 5/10\n",
            "100/100 [==============================] - 6s 56ms/step - loss: 1.4068 - accuracy: 0.2587 - val_loss: 1.3875 - val_accuracy: 0.2200\n",
            "Epoch 6/10\n",
            "100/100 [==============================] - 9s 89ms/step - loss: 1.3862 - accuracy: 0.2575 - val_loss: 1.3879 - val_accuracy: 0.2200\n",
            "Epoch 7/10\n",
            "100/100 [==============================] - 7s 67ms/step - loss: 1.3862 - accuracy: 0.2575 - val_loss: 1.3882 - val_accuracy: 0.2200\n",
            "Epoch 8/10\n",
            "100/100 [==============================] - 6s 56ms/step - loss: 1.3862 - accuracy: 0.2575 - val_loss: 1.3881 - val_accuracy: 0.2200\n",
            "Epoch 9/10\n",
            "100/100 [==============================] - 8s 81ms/step - loss: 1.3862 - accuracy: 0.2575 - val_loss: 1.3883 - val_accuracy: 0.2200\n",
            "Epoch 10/10\n",
            "100/100 [==============================] - 6s 55ms/step - loss: 1.3862 - accuracy: 0.2575 - val_loss: 1.3885 - val_accuracy: 0.2200\n",
            "13/13 [==============================] - 1s 26ms/step - loss: 1.3865 - accuracy: 0.2500\n",
            "Test accuracy: 0.25\n"
          ]
        }
      ]
    },
    {
      "cell_type": "code",
      "source": [],
      "metadata": {
        "id": "6O6OgXWEipIK"
      },
      "execution_count": null,
      "outputs": []
    }
  ]
}